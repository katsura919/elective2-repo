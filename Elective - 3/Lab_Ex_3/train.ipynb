{
 "cells": [
  {
   "cell_type": "code",
   "execution_count": 13,
   "id": "c4f8bbad",
   "metadata": {},
   "outputs": [
    {
     "data": {
      "text/html": [
       "<div>\n",
       "<style scoped>\n",
       "    .dataframe tbody tr th:only-of-type {\n",
       "        vertical-align: middle;\n",
       "    }\n",
       "\n",
       "    .dataframe tbody tr th {\n",
       "        vertical-align: top;\n",
       "    }\n",
       "\n",
       "    .dataframe thead th {\n",
       "        text-align: right;\n",
       "    }\n",
       "</style>\n",
       "<table border=\"1\" class=\"dataframe\">\n",
       "  <thead>\n",
       "    <tr style=\"text-align: right;\">\n",
       "      <th></th>\n",
       "      <th>credit.policy</th>\n",
       "      <th>purpose</th>\n",
       "      <th>int.rate</th>\n",
       "      <th>installment</th>\n",
       "      <th>log.annual.inc</th>\n",
       "      <th>dti</th>\n",
       "      <th>fico</th>\n",
       "      <th>days.with.cr.line</th>\n",
       "      <th>revol.bal</th>\n",
       "      <th>revol.util</th>\n",
       "      <th>inq.last.6mths</th>\n",
       "      <th>delinq.2yrs</th>\n",
       "      <th>pub.rec</th>\n",
       "      <th>not.fully.paid</th>\n",
       "    </tr>\n",
       "  </thead>\n",
       "  <tbody>\n",
       "    <tr>\n",
       "      <th>0</th>\n",
       "      <td>1</td>\n",
       "      <td>debt_consolidation</td>\n",
       "      <td>0.1189</td>\n",
       "      <td>829.10</td>\n",
       "      <td>11.350407</td>\n",
       "      <td>19.48</td>\n",
       "      <td>737</td>\n",
       "      <td>5639.958333</td>\n",
       "      <td>28854</td>\n",
       "      <td>52.1</td>\n",
       "      <td>0</td>\n",
       "      <td>0</td>\n",
       "      <td>0</td>\n",
       "      <td>0</td>\n",
       "    </tr>\n",
       "    <tr>\n",
       "      <th>1</th>\n",
       "      <td>1</td>\n",
       "      <td>credit_card</td>\n",
       "      <td>0.1071</td>\n",
       "      <td>228.22</td>\n",
       "      <td>11.082143</td>\n",
       "      <td>14.29</td>\n",
       "      <td>707</td>\n",
       "      <td>2760.000000</td>\n",
       "      <td>33623</td>\n",
       "      <td>76.7</td>\n",
       "      <td>0</td>\n",
       "      <td>0</td>\n",
       "      <td>0</td>\n",
       "      <td>0</td>\n",
       "    </tr>\n",
       "    <tr>\n",
       "      <th>2</th>\n",
       "      <td>1</td>\n",
       "      <td>debt_consolidation</td>\n",
       "      <td>0.1357</td>\n",
       "      <td>366.86</td>\n",
       "      <td>10.373491</td>\n",
       "      <td>11.63</td>\n",
       "      <td>682</td>\n",
       "      <td>4710.000000</td>\n",
       "      <td>3511</td>\n",
       "      <td>25.6</td>\n",
       "      <td>1</td>\n",
       "      <td>0</td>\n",
       "      <td>0</td>\n",
       "      <td>0</td>\n",
       "    </tr>\n",
       "    <tr>\n",
       "      <th>3</th>\n",
       "      <td>1</td>\n",
       "      <td>debt_consolidation</td>\n",
       "      <td>0.1008</td>\n",
       "      <td>162.34</td>\n",
       "      <td>11.350407</td>\n",
       "      <td>8.10</td>\n",
       "      <td>712</td>\n",
       "      <td>2699.958333</td>\n",
       "      <td>33667</td>\n",
       "      <td>73.2</td>\n",
       "      <td>1</td>\n",
       "      <td>0</td>\n",
       "      <td>0</td>\n",
       "      <td>0</td>\n",
       "    </tr>\n",
       "    <tr>\n",
       "      <th>4</th>\n",
       "      <td>1</td>\n",
       "      <td>credit_card</td>\n",
       "      <td>0.1426</td>\n",
       "      <td>102.92</td>\n",
       "      <td>11.299732</td>\n",
       "      <td>14.97</td>\n",
       "      <td>667</td>\n",
       "      <td>4066.000000</td>\n",
       "      <td>4740</td>\n",
       "      <td>39.5</td>\n",
       "      <td>0</td>\n",
       "      <td>1</td>\n",
       "      <td>0</td>\n",
       "      <td>0</td>\n",
       "    </tr>\n",
       "  </tbody>\n",
       "</table>\n",
       "</div>"
      ],
      "text/plain": [
       "   credit.policy             purpose  int.rate  installment  log.annual.inc  \\\n",
       "0              1  debt_consolidation    0.1189       829.10       11.350407   \n",
       "1              1         credit_card    0.1071       228.22       11.082143   \n",
       "2              1  debt_consolidation    0.1357       366.86       10.373491   \n",
       "3              1  debt_consolidation    0.1008       162.34       11.350407   \n",
       "4              1         credit_card    0.1426       102.92       11.299732   \n",
       "\n",
       "     dti  fico  days.with.cr.line  revol.bal  revol.util  inq.last.6mths  \\\n",
       "0  19.48   737        5639.958333      28854        52.1               0   \n",
       "1  14.29   707        2760.000000      33623        76.7               0   \n",
       "2  11.63   682        4710.000000       3511        25.6               1   \n",
       "3   8.10   712        2699.958333      33667        73.2               1   \n",
       "4  14.97   667        4066.000000       4740        39.5               0   \n",
       "\n",
       "   delinq.2yrs  pub.rec  not.fully.paid  \n",
       "0            0        0               0  \n",
       "1            0        0               0  \n",
       "2            0        0               0  \n",
       "3            0        0               0  \n",
       "4            1        0               0  "
      ]
     },
     "execution_count": 13,
     "metadata": {},
     "output_type": "execute_result"
    }
   ],
   "source": [
    "# Step 1: Load the dataset\n",
    "import pandas as pd\n",
    "data = pd.read_csv('loan_data.csv')\n",
    "data.head()"
   ]
  },
  {
   "cell_type": "markdown",
   "id": "c51f91e8",
   "metadata": {},
   "source": [
    "# Laboratory Exercise 2 - SVM Implementation\n",
    "\n",
    "Steps:\n",
    "1. Load the dataset\n",
    "2. Identify the shape of your data\n",
    "3. Enlist the column names in your dataset\n",
    "4. Establish X and Y Matrix\n",
    "5. Perform 70/30 Data Split\n",
    "6. Provide data dimension (train and test)\n",
    "7. Define the Model\n",
    "8. Build the training model\n",
    "9. Perform prediction on test data\n",
    "10. Print Model Performance"
   ]
  },
  {
   "cell_type": "code",
   "execution_count": 14,
   "id": "00a672f8",
   "metadata": {},
   "outputs": [
    {
     "data": {
      "text/plain": [
       "(9578, 14)"
      ]
     },
     "execution_count": 14,
     "metadata": {},
     "output_type": "execute_result"
    }
   ],
   "source": [
    "# Step 2: Identify the shape of your data\n",
    "data.shape"
   ]
  },
  {
   "cell_type": "code",
   "execution_count": 15,
   "id": "2bd80ee1",
   "metadata": {},
   "outputs": [
    {
     "data": {
      "text/plain": [
       "['credit.policy',\n",
       " 'purpose',\n",
       " 'int.rate',\n",
       " 'installment',\n",
       " 'log.annual.inc',\n",
       " 'dti',\n",
       " 'fico',\n",
       " 'days.with.cr.line',\n",
       " 'revol.bal',\n",
       " 'revol.util',\n",
       " 'inq.last.6mths',\n",
       " 'delinq.2yrs',\n",
       " 'pub.rec',\n",
       " 'not.fully.paid']"
      ]
     },
     "execution_count": 15,
     "metadata": {},
     "output_type": "execute_result"
    }
   ],
   "source": [
    "# Step 3: Enlist the column names in your dataset\n",
    "data.columns.tolist()"
   ]
  },
  {
   "cell_type": "code",
   "execution_count": 16,
   "id": "47037fc8",
   "metadata": {},
   "outputs": [
    {
     "name": "stdout",
     "output_type": "stream",
     "text": [
      "Features shape: (9578, 13)\n",
      "Target shape: (9578,)\n",
      "\n",
      "Feature columns: ['credit.policy', 'purpose', 'int.rate', 'installment', 'log.annual.inc', 'dti', 'fico', 'days.with.cr.line', 'revol.bal', 'revol.util', 'inq.last.6mths', 'delinq.2yrs', 'pub.rec']\n",
      "\n",
      "Target values: not.fully.paid\n",
      "0    8045\n",
      "1    1533\n",
      "Name: count, dtype: int64\n"
     ]
    }
   ],
   "source": [
    "# Step 4: Establish X and Y Matrix\n",
    "X = data.drop('not.fully.paid', axis=1)  # Features\n",
    "Y = data['not.fully.paid']  # Target\n",
    "print('Features shape:', X.shape)\n",
    "print('Target shape:', Y.shape)\n",
    "print('\\nFeature columns:', X.columns.tolist())\n",
    "print('\\nTarget values:', Y.value_counts())"
   ]
  },
  {
   "cell_type": "code",
   "execution_count": 17,
   "id": "7c1bb8f1",
   "metadata": {},
   "outputs": [],
   "source": [
    "# Step 5: Perform 70/30 Data Split\n",
    "from sklearn.model_selection import train_test_split\n",
    "X_train, X_test, Y_train, Y_test = train_test_split(X, Y, test_size=0.3, random_state=42)"
   ]
  },
  {
   "cell_type": "code",
   "execution_count": 18,
   "id": "7bda6fcf",
   "metadata": {},
   "outputs": [
    {
     "name": "stdout",
     "output_type": "stream",
     "text": [
      "Training data shape: (6704, 13) (6704,)\n",
      "Testing data shape: (2874, 13) (2874,)\n"
     ]
    }
   ],
   "source": [
    "# Step 6: Provide data dimension (train and test)\n",
    "print('Training data shape:', X_train.shape, Y_train.shape)\n",
    "print('Testing data shape:', X_test.shape, Y_test.shape)"
   ]
  },
  {
   "cell_type": "code",
   "execution_count": 19,
   "id": "12fc2112",
   "metadata": {},
   "outputs": [
    {
     "name": "stdout",
     "output_type": "stream",
     "text": [
      "Data types:\n",
      "credit.policy          int64\n",
      "purpose               object\n",
      "int.rate             float64\n",
      "installment          float64\n",
      "log.annual.inc       float64\n",
      "dti                  float64\n",
      "fico                   int64\n",
      "days.with.cr.line    float64\n",
      "revol.bal              int64\n",
      "revol.util           float64\n",
      "inq.last.6mths         int64\n",
      "delinq.2yrs            int64\n",
      "pub.rec                int64\n",
      "dtype: object\n",
      "\n",
      "Categorical columns: ['purpose']\n",
      "\n",
      "After preprocessing:\n",
      "X_train_scaled shape: (6704, 13)\n",
      "X_test_scaled shape: (2874, 13)\n"
     ]
    }
   ],
   "source": [
    "# Step 6.1: Data Preprocessing (Handle categorical variables and scaling)\n",
    "from sklearn.preprocessing import LabelEncoder, StandardScaler\n",
    "import pandas as pd\n",
    "\n",
    "# Check data types\n",
    "print(\"Data types:\")\n",
    "print(X_train.dtypes)\n",
    "print(\"\\nCategorical columns:\", X_train.select_dtypes(include=['object']).columns.tolist())\n",
    "\n",
    "# Handle categorical variables using Label Encoding\n",
    "le = LabelEncoder()\n",
    "X_train_processed = X_train.copy()\n",
    "X_test_processed = X_test.copy()\n",
    "\n",
    "# Encode categorical columns\n",
    "categorical_columns = X_train.select_dtypes(include=['object']).columns\n",
    "for col in categorical_columns:\n",
    "    # Fit on training data and transform both train and test\n",
    "    X_train_processed[col] = le.fit_transform(X_train[col].astype(str))\n",
    "    X_test_processed[col] = le.transform(X_test[col].astype(str))\n",
    "\n",
    "# Scale the features (important for SVM)\n",
    "scaler = StandardScaler()\n",
    "X_train_scaled = scaler.fit_transform(X_train_processed)\n",
    "X_test_scaled = scaler.transform(X_test_processed)\n",
    "\n",
    "print(\"\\nAfter preprocessing:\")\n",
    "print(\"X_train_scaled shape:\", X_train_scaled.shape)\n",
    "print(\"X_test_scaled shape:\", X_test_scaled.shape)"
   ]
  },
  {
   "cell_type": "code",
   "execution_count": 20,
   "id": "00c3f5a8",
   "metadata": {},
   "outputs": [],
   "source": [
    "# Step 7: Define the Model\n",
    "from sklearn.svm import SVC\n",
    "Llatuna = SVC()"
   ]
  },
  {
   "cell_type": "code",
   "execution_count": 21,
   "id": "6a0be837",
   "metadata": {},
   "outputs": [
    {
     "name": "stdout",
     "output_type": "stream",
     "text": [
      "Model training completed successfully!\n"
     ]
    }
   ],
   "source": [
    "# Step 8: Build the training model (using preprocessed data)\n",
    "Llatuna.fit(X_train_scaled, Y_train)\n",
    "print(\"Model training completed successfully!\")"
   ]
  },
  {
   "cell_type": "code",
   "execution_count": 22,
   "id": "c0e1efde",
   "metadata": {},
   "outputs": [
    {
     "name": "stdout",
     "output_type": "stream",
     "text": [
      "First 10 predictions: [0 0 0 0 0 0 0 0 0 0]\n",
      "Prediction completed!\n"
     ]
    }
   ],
   "source": [
    "# Step 9: Perform prediction on test data (using preprocessed data)\n",
    "Y_pred = Llatuna.predict(X_test_scaled)\n",
    "print(\"First 10 predictions:\", Y_pred[:10])\n",
    "print(\"Prediction completed!\")"
   ]
  },
  {
   "cell_type": "code",
   "execution_count": 23,
   "id": "57fc772b",
   "metadata": {},
   "outputs": [
    {
     "name": "stdout",
     "output_type": "stream",
     "text": [
      "Accuracy: 0.8389004871259569\n",
      "Confusion Matrix:\n",
      " [[2405    3]\n",
      " [ 460    6]]\n",
      "Classification Report:\n",
      "               precision    recall  f1-score   support\n",
      "\n",
      "           0       0.84      1.00      0.91      2408\n",
      "           1       0.67      0.01      0.03       466\n",
      "\n",
      "    accuracy                           0.84      2874\n",
      "   macro avg       0.75      0.51      0.47      2874\n",
      "weighted avg       0.81      0.84      0.77      2874\n",
      "\n"
     ]
    }
   ],
   "source": [
    "# Step 10: Print Model Performance\n",
    "from sklearn.metrics import accuracy_score, classification_report, confusion_matrix\n",
    "print('Accuracy:', accuracy_score(Y_test, Y_pred))\n",
    "print('Confusion Matrix:\\n', confusion_matrix(Y_test, Y_pred))\n",
    "print('Classification Report:\\n', classification_report(Y_test, Y_pred))"
   ]
  }
 ],
 "metadata": {
  "kernelspec": {
   "display_name": "Python 3",
   "language": "python",
   "name": "python3"
  },
  "language_info": {
   "codemirror_mode": {
    "name": "ipython",
    "version": 3
   },
   "file_extension": ".py",
   "mimetype": "text/x-python",
   "name": "python",
   "nbconvert_exporter": "python",
   "pygments_lexer": "ipython3",
   "version": "3.12.5"
  }
 },
 "nbformat": 4,
 "nbformat_minor": 5
}
