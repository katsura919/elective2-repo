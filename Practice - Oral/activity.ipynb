{
 "cells": [
  {
   "cell_type": "markdown",
   "metadata": {},
   "source": [
    "# Linear Regression Analysis - Diabetes Dataset\n",
    "\n",
    "**Student Name:** Llatuna  \n",
    "**Course:** BSIT - 3R8  \n",
    "**Activity:** 8-Step Linear Regression Implementation\n",
    "\n",
    "---\n",
    "\n",
    "## Instructions Checklist:\n",
    "1. ✅ Load the dataset (5pts)\n",
    "2. ✅ Establish X and Y Matrix (5pts) \n",
    "3. ✅ Perform 75/25 Data Split (5pts)\n",
    "4. ✅ Provide data dimension (train and test) (5pts)\n",
    "5. ✅ Define the Linear Regression Model (5pts)\n",
    "6. ✅ Build the training model (5pts)\n",
    "7. ✅ Perform prediction on test data (5pts)\n",
    "8. ✅ Print Model Performance (5pts)\n",
    "\n",
    "**Model Name:** Llatuna_LinearRegression"
   ]
  },
  {
   "cell_type": "markdown",
   "metadata": {},
   "source": [
    "## Import Required Libraries\n",
    "Import all necessary libraries for Linear Regression analysis"
   ]
  },
  {
   "cell_type": "code",
   "execution_count": 12,
   "metadata": {},
   "outputs": [
    {
     "name": "stdout",
     "output_type": "stream",
     "text": [
      "Libraries imported successfully!\n"
     ]
    }
   ],
   "source": [
    "# Import necessary libraries for Linear Regression analysis\n",
    "import pandas as pd\n",
    "import numpy as np\n",
    "import matplotlib.pyplot as plt\n",
    "import seaborn as sns\n",
    "from sklearn.model_selection import train_test_split\n",
    "from sklearn.linear_model import LinearRegression\n",
    "from sklearn.metrics import mean_squared_error, r2_score, mean_absolute_error\n",
    "from sklearn.preprocessing import StandardScaler\n",
    "import warnings\n",
    "warnings.filterwarnings('ignore')\n",
    "\n",
    "print(\"Libraries imported successfully!\")"
   ]
  },
  {
   "cell_type": "markdown",
   "metadata": {},
   "source": [
    "## Step 1: Load the Dataset (5pts)\n",
    "Load the diabetes dataset and examine its structure"
   ]
  },
  {
   "cell_type": "code",
   "execution_count": 13,
   "metadata": {},
   "outputs": [
    {
     "name": "stdout",
     "output_type": "stream",
     "text": [
      "Dataset loaded successfully!\n",
      "Dataset shape: (100000, 17)\n",
      "\n",
      "Columns in dataset: ['year', 'gender', 'age', 'location', 'race:AfricanAmerican', 'race:Asian', 'race:Caucasian', 'race:Hispanic', 'race:Other', 'hypertension', 'heart_disease', 'smoking_history', 'bmi', 'hbA1c_level', 'blood_glucose_level', 'diabetes', 'clinical_notes']\n",
      "\n",
      "First 5 rows:\n",
      "   year  gender   age location  race:AfricanAmerican  race:Asian  \\\n",
      "0  2020  Female  32.0  Alabama                     0           0   \n",
      "1  2015  Female  29.0  Alabama                     0           1   \n",
      "2  2015    Male  18.0  Alabama                     0           0   \n",
      "3  2015    Male  41.0  Alabama                     0           0   \n",
      "4  2016  Female  52.0  Alabama                     1           0   \n",
      "\n",
      "   race:Caucasian  race:Hispanic  race:Other  hypertension  heart_disease  \\\n",
      "0               0              0           1             0              0   \n",
      "1               0              0           0             0              0   \n",
      "2               0              0           1             0              0   \n",
      "3               1              0           0             0              0   \n",
      "4               0              0           0             0              0   \n",
      "\n",
      "  smoking_history    bmi  hbA1c_level  blood_glucose_level  diabetes  \\\n",
      "0           never  27.32          5.0                  100         0   \n",
      "1           never  19.95          5.0                   90         0   \n",
      "2           never  23.76          4.8                  160         0   \n",
      "3           never  27.32          4.0                  159         0   \n",
      "4           never  23.75          6.5                   90         0   \n",
      "\n",
      "                                      clinical_notes  \n",
      "0  Overweight, advised dietary and exercise modif...  \n",
      "1                                 Healthy BMI range.  \n",
      "2  Young patient, generally lower risk but needs ...  \n",
      "3  Overweight, advised dietary and exercise modif...  \n",
      "4  Healthy BMI range. High HbA1c level, indicativ...  \n"
     ]
    }
   ],
   "source": [
    "# Step 1: Load the dataset\n",
    "# Load the diabetes dataset from CSV file\n",
    "df = pd.read_csv(\"datasets/diabetes.csv\")\n",
    "\n",
    "# Display basic information about the dataset\n",
    "print(\"Dataset loaded successfully!\")\n",
    "print(f\"Dataset shape: {df.shape}\")\n",
    "print(f\"\\nColumns in dataset: {list(df.columns)}\")\n",
    "print(f\"\\nFirst 5 rows:\")\n",
    "print(df.head())"
   ]
  },
  {
   "cell_type": "markdown",
   "metadata": {},
   "source": [
    "## Step 2: Establish X and Y Matrix (5pts)\n",
    "Define features (X) and target variable (Y) for Linear Regression"
   ]
  },
  {
   "cell_type": "code",
   "execution_count": 14,
   "metadata": {},
   "outputs": [
    {
     "name": "stdout",
     "output_type": "stream",
     "text": [
      "X Matrix (Features):\n",
      "Shape: (100000, 3)\n",
      "Features: ['age', 'bmi', 'blood_glucose_level']\n",
      "\n",
      "First 5 rows of X:\n",
      "    age    bmi  blood_glucose_level\n",
      "0  32.0  27.32                  100\n",
      "1  29.0  19.95                   90\n",
      "2  18.0  23.76                  160\n",
      "3  41.0  27.32                  159\n",
      "4  52.0  23.75                   90\n",
      "\n",
      "Y Vector (Target):\n",
      "Shape: (100000,)\n",
      "Target variable: hbA1c_level\n",
      "\n",
      "First 5 values of y:\n",
      "0    5.0\n",
      "1    5.0\n",
      "2    4.8\n",
      "3    4.0\n",
      "4    6.5\n",
      "Name: hbA1c_level, dtype: float64\n"
     ]
    }
   ],
   "source": [
    "# Step 2: Establish X and Y Matrix\n",
    "# For Linear Regression, we'll predict HbA1c level based on other numeric features\n",
    "\n",
    "# Select numeric features for prediction (excluding target variable)\n",
    "# We'll use BMI, blood glucose level, and age as features to predict HbA1c level\n",
    "X = df[['age', 'bmi', 'blood_glucose_level']].copy()\n",
    "y = df['hbA1c_level'].copy()\n",
    "\n",
    "print(\"X Matrix (Features):\")\n",
    "print(f\"Shape: {X.shape}\")\n",
    "print(f\"Features: {list(X.columns)}\")\n",
    "print(\"\\nFirst 5 rows of X:\")\n",
    "print(X.head())\n",
    "\n",
    "print(f\"\\nY Vector (Target):\")\n",
    "print(f\"Shape: {y.shape}\")\n",
    "print(f\"Target variable: hbA1c_level\")\n",
    "print(\"\\nFirst 5 values of y:\")\n",
    "print(y.head())"
   ]
  },
  {
   "cell_type": "markdown",
   "metadata": {},
   "source": [
    "## Step 3: Perform 75/25 Data Split (5pts)\n",
    "Split the data into training (75%) and testing (25%) sets"
   ]
  },
  {
   "cell_type": "code",
   "execution_count": 15,
   "metadata": {},
   "outputs": [
    {
     "name": "stdout",
     "output_type": "stream",
     "text": [
      "Data split completed successfully!\n",
      "Training set size: 75000 samples (75.0%)\n",
      "Testing set size: 25000 samples (25.0%)\n",
      "Total samples: 100000\n",
      "\n",
      "Split verification:\n",
      "Training ratio: 0.750 (should be ~0.750)\n",
      "Testing ratio: 0.250 (should be ~0.250)\n"
     ]
    }
   ],
   "source": [
    "# Step 3: Perform 75/25 Data Split\n",
    "# Split the data into training (75%) and testing (25%) sets\n",
    "X_train, X_test, y_train, y_test = train_test_split(\n",
    "    X, y, \n",
    "    test_size=0.25,  # 25% for testing, 75% for training\n",
    "    random_state=42  # For reproducible results\n",
    ")\n",
    "\n",
    "print(\"Data split completed successfully!\")\n",
    "print(f\"Training set size: {len(X_train)} samples ({len(X_train)/len(X)*100:.1f}%)\")\n",
    "print(f\"Testing set size: {len(X_test)} samples ({len(X_test)/len(X)*100:.1f}%)\")\n",
    "print(f\"Total samples: {len(X)}\")\n",
    "\n",
    "# Verify the split ratio\n",
    "print(f\"\\nSplit verification:\")\n",
    "print(f\"Training ratio: {len(X_train)/len(X):.3f} (should be ~0.750)\")\n",
    "print(f\"Testing ratio: {len(X_test)/len(X):.3f} (should be ~0.250)\")"
   ]
  },
  {
   "cell_type": "markdown",
   "metadata": {},
   "source": [
    "## Step 4: Provide Data Dimensions (Train and Test) (5pts)\n",
    "Display the dimensions of training and testing datasets"
   ]
  },
  {
   "cell_type": "code",
   "execution_count": 16,
   "metadata": {},
   "outputs": [
    {
     "name": "stdout",
     "output_type": "stream",
     "text": [
      "DATA DIMENSIONS SUMMARY\n",
      "========================================\n",
      "\n",
      "Training Set Dimensions:\n",
      "X_train shape: (75000, 3) (rows: 75000, features: 3)\n",
      "y_train shape: (75000,) (target values: 75000)\n",
      "\n",
      "Testing Set Dimensions:\n",
      "X_test shape: (25000, 3) (rows: 25000, features: 3)\n",
      "y_test shape: (25000,) (target values: 25000)\n",
      "\n",
      "Feature Information:\n",
      "Number of features: 3\n",
      "Feature names: ['age', 'bmi', 'blood_glucose_level']\n",
      "\n",
      "Total dataset size: 100000 samples\n",
      "Training samples: 75000 (75.0%)\n",
      "Testing samples: 25000 (25.0%)\n"
     ]
    }
   ],
   "source": [
    "# Step 4: Provide data dimensions (train and test)\n",
    "print(\"DATA DIMENSIONS SUMMARY\")\n",
    "print(\"=\" * 40)\n",
    "\n",
    "print(\"\\nTraining Set Dimensions:\")\n",
    "print(f\"X_train shape: {X_train.shape} (rows: {X_train.shape[0]}, features: {X_train.shape[1]})\")\n",
    "print(f\"y_train shape: {y_train.shape} (target values: {y_train.shape[0]})\")\n",
    "\n",
    "print(\"\\nTesting Set Dimensions:\")\n",
    "print(f\"X_test shape: {X_test.shape} (rows: {X_test.shape[0]}, features: {X_test.shape[1]})\")\n",
    "print(f\"y_test shape: {y_test.shape} (target values: {y_test.shape[0]})\")\n",
    "\n",
    "print(\"\\nFeature Information:\")\n",
    "print(f\"Number of features: {X_train.shape[1]}\")\n",
    "print(f\"Feature names: {list(X_train.columns)}\")\n",
    "\n",
    "print(f\"\\nTotal dataset size: {len(X)} samples\")\n",
    "print(f\"Training samples: {len(X_train)} ({len(X_train)/len(X)*100:.1f}%)\")\n",
    "print(f\"Testing samples: {len(X_test)} ({len(X_test)/len(X)*100:.1f}%)\")"
   ]
  },
  {
   "cell_type": "markdown",
   "metadata": {},
   "source": [
    "## Step 5: Define the Linear Regression Model (5pts)\n",
    "Create and initialize the Linear Regression model with your family name"
   ]
  },
  {
   "cell_type": "code",
   "execution_count": 17,
   "metadata": {},
   "outputs": [
    {
     "name": "stdout",
     "output_type": "stream",
     "text": [
      "Linear Regression Model Defined Successfully!\n",
      "Model Name: Llatuna_LinearRegression\n",
      "Model Type: LinearRegression\n",
      "Model Parameters: {'copy_X': True, 'fit_intercept': True, 'n_jobs': None, 'positive': False}\n",
      "\n",
      "Model Details:\n",
      "- Algorithm: Linear Regression\n",
      "- Fit Intercept: True\n",
      "- Copy X: True\n",
      "- Positive: False\n"
     ]
    }
   ],
   "source": [
    "# Step 5: Define the Linear Regression Model\n",
    "# Create a Linear Regression model instance\n",
    "# Model Name: Replace with your family name (e.g., Smith_LinearRegression)\n",
    "Llatuna_LinearRegression = LinearRegression()\n",
    "\n",
    "print(\"Linear Regression Model Defined Successfully!\")\n",
    "print(f\"Model Name: Llatuna_LinearRegression\")\n",
    "print(f\"Model Type: {type(Llatuna_LinearRegression).__name__}\")\n",
    "print(f\"Model Parameters: {Llatuna_LinearRegression.get_params()}\")\n",
    "\n",
    "# Display model information\n",
    "print(f\"\\nModel Details:\")\n",
    "print(f\"- Algorithm: Linear Regression\")\n",
    "print(f\"- Fit Intercept: {Llatuna_LinearRegression.fit_intercept}\")\n",
    "print(f\"- Copy X: {Llatuna_LinearRegression.copy_X}\")\n",
    "print(f\"- Positive: {Llatuna_LinearRegression.positive}\")"
   ]
  },
  {
   "cell_type": "markdown",
   "metadata": {},
   "source": [
    "## Step 6: Build the Training Model (5pts)\n",
    "Train the Linear Regression model using the training data"
   ]
  },
  {
   "cell_type": "code",
   "execution_count": 18,
   "metadata": {},
   "outputs": [
    {
     "name": "stdout",
     "output_type": "stream",
     "text": [
      "Training the Linear Regression model...\n",
      "Model training completed successfully!\n",
      "\n",
      "Model Training Results:\n",
      "Intercept (β₀): 4.6229\n",
      "\n",
      "Coefficients (β₁, β₂, β₃):\n",
      "  age: 0.0034\n",
      "  bmi: 0.0073\n",
      "  blood_glucose_level: 0.0041\n",
      "\n",
      "Regression Equation:\n",
      "HbA1c = 4.6229 +0.0034*age +0.0073*bmi +0.0041*blood_glucose_level\n"
     ]
    }
   ],
   "source": [
    "# Step 6: Build the training model\n",
    "# Train the Linear Regression model using the training data\n",
    "print(\"Training the Linear Regression model...\")\n",
    "\n",
    "# Fit the model to the training data\n",
    "Llatuna_LinearRegression.fit(X_train, y_train)\n",
    "\n",
    "print(\"Model training completed successfully!\")\n",
    "\n",
    "# Display model coefficients and intercept\n",
    "print(f\"\\nModel Training Results:\")\n",
    "print(f\"Intercept (β₀): {Llatuna_LinearRegression.intercept_:.4f}\")\n",
    "print(f\"\\nCoefficients (β₁, β₂, β₃):\")\n",
    "for i, feature in enumerate(X_train.columns):\n",
    "    print(f\"  {feature}: {Llatuna_LinearRegression.coef_[i]:.4f}\")\n",
    "\n",
    "# Display the regression equation\n",
    "print(f\"\\nRegression Equation:\")\n",
    "equation = f\"HbA1c = {Llatuna_LinearRegression.intercept_:.4f}\"\n",
    "for i, feature in enumerate(X_train.columns):\n",
    "    coef = Llatuna_LinearRegression.coef_[i]\n",
    "    sign = \"+\" if coef >= 0 else \"\"\n",
    "    equation += f\" {sign}{coef:.4f}*{feature}\"\n",
    "print(equation)"
   ]
  },
  {
   "cell_type": "markdown",
   "metadata": {},
   "source": [
    "## Step 7: Perform Prediction on Test Data (5pts)\n",
    "Use the trained model to make predictions on the test dataset"
   ]
  },
  {
   "cell_type": "code",
   "execution_count": 19,
   "metadata": {},
   "outputs": [
    {
     "name": "stdout",
     "output_type": "stream",
     "text": [
      "Making predictions on test data...\n",
      "Predictions completed successfully!\n",
      "\n",
      "Prediction Results Summary:\n",
      "Number of predictions: 25000\n",
      "Prediction range: 5.0363 to 6.4825\n",
      "Actual range: 3.5000 to 9.0000\n",
      "\n",
      "First 10 Predictions vs Actual Values:\n",
      "Index | Predicted | Actual  | Difference\n",
      "----------------------------------------\n",
      "    1 |   5.8322 |  4.8000 |   1.0322\n",
      "    2 |   5.6528 |  6.5000 |   0.8472\n",
      "    3 |   5.5943 |  6.8000 |   1.2057\n",
      "    4 |   5.5003 |  4.5000 |   1.0003\n",
      "    5 |   5.4782 |  4.0000 |   1.4782\n",
      "    6 |   6.1716 |  5.7000 |   0.4716\n",
      "    7 |   5.3947 |  6.2000 |   0.8053\n",
      "    8 |   5.6310 |  6.5000 |   0.8690\n",
      "    9 |   5.7245 |  5.8000 |   0.0755\n",
      "   10 |   5.4682 |  6.5000 |   1.0318\n",
      "\n",
      "Predictions stored for performance evaluation.\n"
     ]
    }
   ],
   "source": [
    "# Step 7: Perform prediction on test data\n",
    "# Use the trained model to predict on test data\n",
    "print(\"Making predictions on test data...\")\n",
    "\n",
    "# Generate predictions\n",
    "y_pred = Llatuna_LinearRegression.predict(X_test)\n",
    "\n",
    "print(\"Predictions completed successfully!\")\n",
    "\n",
    "# Display prediction results\n",
    "print(f\"\\nPrediction Results Summary:\")\n",
    "print(f\"Number of predictions: {len(y_pred)}\")\n",
    "print(f\"Prediction range: {y_pred.min():.4f} to {y_pred.max():.4f}\")\n",
    "print(f\"Actual range: {y_test.min():.4f} to {y_test.max():.4f}\")\n",
    "\n",
    "# Show first 10 predictions vs actual values\n",
    "print(f\"\\nFirst 10 Predictions vs Actual Values:\")\n",
    "print(\"Index | Predicted | Actual  | Difference\")\n",
    "print(\"-\" * 40)\n",
    "for i in range(min(10, len(y_pred))):\n",
    "    pred = y_pred[i]\n",
    "    actual = y_test.iloc[i]\n",
    "    diff = abs(pred - actual)\n",
    "    print(f\"{i+1:5d} | {pred:8.4f} | {actual:7.4f} | {diff:8.4f}\")\n",
    "\n",
    "# Store predictions for performance evaluation\n",
    "print(f\"\\nPredictions stored for performance evaluation.\")"
   ]
  },
  {
   "cell_type": "markdown",
   "metadata": {},
   "source": [
    "## Step 8: Print Model Performance (5pts)\n",
    "Evaluate and display the performance metrics of the Linear Regression model"
   ]
  },
  {
   "cell_type": "code",
   "execution_count": 20,
   "metadata": {},
   "outputs": [
    {
     "name": "stdout",
     "output_type": "stream",
     "text": [
      "MODEL PERFORMANCE EVALUATION\n",
      "==================================================\n",
      "\n",
      "Model Name: Llatuna_LinearRegression\n",
      "Algorithm: Linear Regression (converted to classification)\n",
      "\n",
      "CLASSIFICATION PERFORMANCE METRICS:\n",
      "----------------------------------------\n",
      "Accuracy:     0.396200\n",
      "Precision:    0.321516\n",
      "Recall:       0.396200\n",
      "F1-Score:     0.298308\n",
      "\n",
      "CATEGORY MAPPING:\n",
      "0 = Normal (HbA1c < 5.7)\n",
      "1 = Prediabetes (5.7 ≤ HbA1c < 6.5)\n",
      "2 = Diabetes (HbA1c ≥ 6.5)\n",
      "\n",
      "ADDITIONAL STATISTICS:\n",
      "-------------------------\n",
      "Training samples: 75000\n",
      "Testing samples:  25000\n",
      "Number of features: 3\n",
      "Feature names: ['age', 'bmi', 'blood_glucose_level']\n",
      "\n",
      "MODEL TRAINING STATUS: ✅ COMPLETED\n",
      "All 8 steps have been successfully executed!\n"
     ]
    }
   ],
   "source": [
    "# Step 8: Print Model Performance\n",
    "# Calculate and display classification metrics by converting regression to classification\n",
    "\n",
    "print(\"MODEL PERFORMANCE EVALUATION\")\n",
    "print(\"=\" * 50)\n",
    "\n",
    "# Import classification metrics\n",
    "from sklearn.metrics import accuracy_score, precision_score, recall_score, f1_score, classification_report\n",
    "\n",
    "# Convert continuous HbA1c predictions to diabetes risk categories\n",
    "def categorize_hba1c(hba1c_value):\n",
    "    \"\"\"Convert HbA1c level to diabetes risk category\"\"\"\n",
    "    if hba1c_value < 5.7:\n",
    "        return 0  # Normal\n",
    "    elif hba1c_value < 6.5:\n",
    "        return 1  # Prediabetes\n",
    "    else:\n",
    "        return 2  # Diabetes\n",
    "\n",
    "# Convert actual and predicted values to categories\n",
    "y_test_categorical = y_test.apply(categorize_hba1c)\n",
    "y_pred_categorical = [categorize_hba1c(pred) for pred in y_pred]\n",
    "\n",
    "# Calculate classification metrics\n",
    "accuracy = accuracy_score(y_test_categorical, y_pred_categorical)\n",
    "precision = precision_score(y_test_categorical, y_pred_categorical, average='weighted')\n",
    "recall = recall_score(y_test_categorical, y_pred_categorical, average='weighted')\n",
    "f1 = f1_score(y_test_categorical, y_pred_categorical, average='weighted')\n",
    "\n",
    "# Print performance metrics\n",
    "print(f\"\\nModel Name: Llatuna_LinearRegression\")\n",
    "print(f\"Algorithm: Linear Regression (converted to classification)\")\n",
    "print(f\"\\nCLASSIFICATION PERFORMANCE METRICS:\")\n",
    "print(\"-\" * 40)\n",
    "print(f\"Accuracy:     {accuracy:.6f}\")\n",
    "print(f\"Precision:    {precision:.6f}\")\n",
    "print(f\"Recall:       {recall:.6f}\")\n",
    "print(f\"F1-Score:     {f1:.6f}\")\n",
    "\n",
    "print(f\"\\nCATEGORY MAPPING:\")\n",
    "print(\"0 = Normal (HbA1c < 5.7)\")\n",
    "print(\"1 = Prediabetes (5.7 ≤ HbA1c < 6.5)\")\n",
    "print(\"2 = Diabetes (HbA1c ≥ 6.5)\")\n",
    "\n",
    "# Additional statistics\n",
    "print(f\"\\nADDITIONAL STATISTICS:\")\n",
    "print(\"-\" * 25)\n",
    "print(f\"Training samples: {len(X_train)}\")\n",
    "print(f\"Testing samples:  {len(X_test)}\")\n",
    "print(f\"Number of features: {X_train.shape[1]}\")\n",
    "print(f\"Feature names: {list(X_train.columns)}\")\n",
    "\n",
    "print(f\"\\nMODEL TRAINING STATUS: ✅ COMPLETED\")\n",
    "print(f\"All 8 steps have been successfully executed!\")"
   ]
  }
 ],
 "metadata": {
  "kernelspec": {
   "display_name": "Python 3",
   "language": "python",
   "name": "python3"
  },
  "language_info": {
   "codemirror_mode": {
    "name": "ipython",
    "version": 3
   },
   "file_extension": ".py",
   "mimetype": "text/x-python",
   "name": "python",
   "nbconvert_exporter": "python",
   "pygments_lexer": "ipython3",
   "version": "3.12.5"
  }
 },
 "nbformat": 4,
 "nbformat_minor": 2
}
